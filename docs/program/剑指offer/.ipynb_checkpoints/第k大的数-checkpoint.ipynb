{
 "cells": [
  {
   "cell_type": "code",
   "execution_count": 6,
   "id": "303cbce2",
   "metadata": {},
   "outputs": [],
   "source": [
    "def quick_sort(arr, l, r):\n",
    "    pivot = l\n",
    "    i, j = l, r\n",
    "    while i < j:\n",
    "        \n",
    "        while i < j and arr[pivot] >= arr[i]:\n",
    "            i += 1\n",
    "        while i < j and arr[pivot] <= arr[j]:\n",
    "            j -= 1\n",
    "        arr[i], arr[j] = arr[j], arr[i]\n",
    "    arr[i], arr[pivot] = arr[pivot], arr[i]\n",
    "    if l < i - 1:\n",
    "        quick_sort(arr, l, i-1)\n",
    "    if r > i + 1:\n",
    "        quick_sort(arr, i+1, r)\n",
    "    return arr"
   ]
  },
  {
   "cell_type": "code",
   "execution_count": 7,
   "id": "3ba2f989",
   "metadata": {},
   "outputs": [
    {
     "data": {
      "text/plain": [
       "[1, 4, 2, 6, 5, 7]"
      ]
     },
     "execution_count": 7,
     "metadata": {},
     "output_type": "execute_result"
    }
   ],
   "source": [
    "arr = [2, 1, 4, 7, 6, 5]\n",
    "\n",
    "quick_sort(arr, 0, len(arr)-1)"
   ]
  },
  {
   "cell_type": "code",
   "execution_count": null,
   "id": "fee3534a",
   "metadata": {},
   "outputs": [],
   "source": []
  }
 ],
 "metadata": {
  "kernelspec": {
   "display_name": "Python 3",
   "language": "python",
   "name": "python3"
  },
  "language_info": {
   "codemirror_mode": {
    "name": "ipython",
    "version": 3
   },
   "file_extension": ".py",
   "mimetype": "text/x-python",
   "name": "python",
   "nbconvert_exporter": "python",
   "pygments_lexer": "ipython3",
   "version": "3.8.8"
  }
 },
 "nbformat": 4,
 "nbformat_minor": 5
}
