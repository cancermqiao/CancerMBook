{
 "cells": [
  {
   "cell_type": "markdown",
   "id": "44b9a729",
   "metadata": {},
   "source": [
    "# 快速排序"
   ]
  },
  {
   "cell_type": "code",
   "execution_count": 11,
   "id": "2294381b",
   "metadata": {},
   "outputs": [],
   "source": [
    "def swap(arr, i, j):\n",
    "    arr[i], arr[j] = arr[j], arr[i]\n",
    "    return arr\n",
    "    \n",
    "def quick_sort(arr, left=None, right=None):\n",
    "    if not isinstance(left, int):\n",
    "        left = 0\n",
    "    if not isinstance(right, int):\n",
    "        right = len(arr) - 1\n",
    "    if left == right:\n",
    "        return arr\n",
    "    \n",
    "    pivot = left\n",
    "    i = left\n",
    "    j = right\n",
    "    while i < j:\n",
    "        while i < j and arr[j] >= arr[pivot]:\n",
    "            j -= 1\n",
    "        if i < j:\n",
    "            arr = swap(arr, pivot, j)\n",
    "        while i < j and arr[i] <= pivot:\n",
    "            i += 1\n",
    "        if i < j:\n",
    "            arr = swap(arr, i, pivot)\n",
    "    if left <= pivot:\n",
    "        quick_sort(arr, left, pivot)\n",
    "    if pivot + 1 <= right:\n",
    "        quick_sort(arr, pivot + 1, right)\n",
    "    \n",
    "    return arr"
   ]
  },
  {
   "cell_type": "code",
   "execution_count": 12,
   "id": "6bbe1d51",
   "metadata": {},
   "outputs": [
    {
     "name": "stdout",
     "output_type": "stream",
     "text": [
      "[1, 2, 4, 5, 6]\n"
     ]
    }
   ],
   "source": [
    "arr = [2, 1, 4, 6, 5]\n",
    "\n",
    "print(quick_sort(arr))"
   ]
  }
 ],
 "metadata": {
  "kernelspec": {
   "display_name": "Python 3",
   "language": "python",
   "name": "python3"
  },
  "language_info": {
   "codemirror_mode": {
    "name": "ipython",
    "version": 3
   },
   "file_extension": ".py",
   "mimetype": "text/x-python",
   "name": "python",
   "nbconvert_exporter": "python",
   "pygments_lexer": "ipython3",
   "version": "3.8.8"
  }
 },
 "nbformat": 4,
 "nbformat_minor": 5
}
