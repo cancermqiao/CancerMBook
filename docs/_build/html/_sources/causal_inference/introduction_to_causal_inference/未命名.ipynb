{
 "cells": [
  {
   "cell_type": "markdown",
   "id": "5b472c83",
   "metadata": {},
   "source": [
    "\\begin{align}&max \\sum_{i\\in I}(\\alpha\\cdot D_{i,t} + \\beta\\cdot R_{i,t})\\cdot x_{i,t}\\\\\n",
    "s.t.\\ \\ \\ \\ \\ &\\sum_{i\\in I}\\pi_{t}(D_{i,t})\\cdot x_{i,t} \\le B \\\\\n",
    "& \\sum_{t\\in T}x_{i,t} = 1\\ and\\ x_{i,t}\\in \\{0,1\\}\\end{align}\n"
   ]
  },
  {
   "cell_type": "markdown",
   "id": "9914c565",
   "metadata": {},
   "source": [
    "标注：\n",
    "\n",
    "- $D_{i,t}$: 第i个设备或第i种设备群在treatment $t$下的预估时长，等于base_model和uplift model的加和，\n",
    "\n",
    "    $D_{i,t}=D_{i,t}^{Uplift} + D_{i,t_0}^{Base}$，$t_0\\in T$，为不发补贴的策略\n",
    "- $R_{i,t}$: 同上，为第i个设备或第i种设备群在treatment $t$下的次日留存率\n",
    "- $x_{i,t}$: 第i个设备或第i种设备群是否采用treatment $t$，0为不采用，1为采用，所要求解的策略矩阵\n",
    "- $\\pi_t$: $t$是treatment，为时间上限和金币上限的组合，$\\pi$为在treatment $t$下，时长和活跃天数到接收金币的映射\n",
    "- $\\alpha$和$\\beta$: 权重参数，控制活跃天数和时长的比重"
   ]
  },
  {
   "cell_type": "code",
   "execution_count": null,
   "id": "9d7f5c62",
   "metadata": {},
   "outputs": [],
   "source": []
  }
 ],
 "metadata": {
  "hide_input": false,
  "kernelspec": {
   "display_name": "Python 3 (ipykernel)",
   "language": "python",
   "name": "python3"
  },
  "language_info": {
   "codemirror_mode": {
    "name": "ipython",
    "version": 3
   },
   "file_extension": ".py",
   "mimetype": "text/x-python",
   "name": "python",
   "nbconvert_exporter": "python",
   "pygments_lexer": "ipython3",
   "version": "3.8.11"
  },
  "latex_envs": {
   "LaTeX_envs_menu_present": true,
   "autoclose": false,
   "autocomplete": true,
   "bibliofile": "biblio.bib",
   "cite_by": "apalike",
   "current_citInitial": 1,
   "eqLabelWithNumbers": true,
   "eqNumInitial": 1,
   "hotkeys": {
    "equation": "Ctrl-E",
    "itemize": "Ctrl-I"
   },
   "labels_anchors": false,
   "latex_user_defs": false,
   "report_style_numbering": false,
   "user_envs_cfg": false
  },
  "toc": {
   "base_numbering": 1,
   "nav_menu": {},
   "number_sections": false,
   "sideBar": true,
   "skip_h1_title": false,
   "title_cell": "Table of Contents",
   "title_sidebar": "Contents",
   "toc_cell": false,
   "toc_position": {},
   "toc_section_display": true,
   "toc_window_display": false
  }
 },
 "nbformat": 4,
 "nbformat_minor": 5
}
