{
 "cells": [
  {
   "cell_type": "markdown",
   "id": "cc4af438",
   "metadata": {},
   "source": [
    "# 数组分割"
   ]
  },
  {
   "cell_type": "markdown",
   "id": "f9b9dc12",
   "metadata": {},
   "source": [
    "## 1. 数组分割后方差和最小\n",
    "\n",
    "\n",
    "### 题目\n",
    "\n",
    "    将一个随机数组分割成两部分，使得分割后的两部分的方差和最小。\n",
    "\n",
    "\n",
    "### 解法\n",
    "    \n",
    "    方差表达式\n",
    "$$\\begin{split}\\sigma^2(x)&=E\\left[\\left(x-E\\left[x\\right]\\right)^2\\right]\\\\&=E\\left[x^2-2xE\\left[x\\right]+E^2\\left[x\\right]\\right]\\\\&=E\\left[x^2\\right]-E^2\\left[x\\right]\\end{split}$$\n",
    "\n",
    "    借用该表达式，可以递归地求得增加新的元素后的数组方差\n",
    "\n",
    "\n",
    "### 代码"
   ]
  },
  {
   "cell_type": "code",
   "execution_count": 25,
   "id": "234b92d4",
   "metadata": {},
   "outputs": [
    {
     "data": {
      "text/plain": [
       "(1, 1.25)"
      ]
     },
     "execution_count": 25,
     "metadata": {},
     "output_type": "execute_result"
    }
   ],
   "source": [
    "def calVariance(nums):\n",
    "    vars_list = []\n",
    "    cum_val = 0\n",
    "    cum_square = 0\n",
    "    for i, num in enumerate(nums):\n",
    "        cum_val += num\n",
    "        cum_square += num**2\n",
    "        var = cum_square/(i+1) - (cum_val/(i+1))**2\n",
    "        vars_list.append(var)\n",
    "    return vars_list\n",
    "    \n",
    "    \n",
    "def minVariancePartial(nums):\n",
    "    if not nums:\n",
    "        return -1, -1\n",
    "    \n",
    "    left_vars = calVariance(nums[:-1])\n",
    "    right_vars = calVariance(nums[::-1][:-1])[::-1]\n",
    "    \n",
    "    max_var = 0\n",
    "    split_idx = 0\n",
    "    for idx, (left_var, right_var) in enumerate(zip(left_vars, right_vars)):\n",
    "        sum_var = left_var + right_var\n",
    "        if sum_var > max_var:\n",
    "            max_var = sum_var\n",
    "            split_idx = idx+1\n",
    "            \n",
    "    return split_idx, max_var\n",
    "\n",
    "\n",
    "# 测试\n",
    "nums = [1, 2, 3, 4, 5]\n",
    "minVariancePartial(nums)"
   ]
  }
 ],
 "metadata": {
  "hide_input": false,
  "kernelspec": {
   "display_name": "Python 3",
   "language": "python",
   "name": "python3"
  },
  "language_info": {
   "codemirror_mode": {
    "name": "ipython",
    "version": 3
   },
   "file_extension": ".py",
   "mimetype": "text/x-python",
   "name": "python",
   "nbconvert_exporter": "python",
   "pygments_lexer": "ipython3",
   "version": "3.8.8"
  },
  "toc": {
   "base_numbering": 1,
   "nav_menu": {},
   "number_sections": false,
   "sideBar": true,
   "skip_h1_title": false,
   "title_cell": "Table of Contents",
   "title_sidebar": "Contents",
   "toc_cell": false,
   "toc_position": {},
   "toc_section_display": true,
   "toc_window_display": false
  }
 },
 "nbformat": 4,
 "nbformat_minor": 5
}
