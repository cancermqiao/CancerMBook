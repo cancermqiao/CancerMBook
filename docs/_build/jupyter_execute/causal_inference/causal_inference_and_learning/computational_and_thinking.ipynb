{
 "cells": [
  {
   "cell_type": "markdown",
   "id": "d2cd16cd",
   "metadata": {},
   "source": [
    "# 0. Computational and Inferential thinking\n",
    "\n",
    "详见[Computational and Inferential thinking](https://inferentialthinking.com/chapters/intro.html)"
   ]
  }
 ],
 "metadata": {
  "hide_input": false,
  "kernelspec": {
   "display_name": "Python 3",
   "language": "python",
   "name": "python3"
  },
  "language_info": {
   "codemirror_mode": {
    "name": "ipython",
    "version": 3
   },
   "file_extension": ".py",
   "mimetype": "text/x-python",
   "name": "python",
   "nbconvert_exporter": "python",
   "pygments_lexer": "ipython3",
   "version": "3.8.8"
  },
  "toc": {
   "base_numbering": 1,
   "nav_menu": {},
   "number_sections": false,
   "sideBar": true,
   "skip_h1_title": false,
   "title_cell": "Table of Contents",
   "title_sidebar": "Contents",
   "toc_cell": false,
   "toc_position": {},
   "toc_section_display": true,
   "toc_window_display": false
  }
 },
 "nbformat": 4,
 "nbformat_minor": 5
}