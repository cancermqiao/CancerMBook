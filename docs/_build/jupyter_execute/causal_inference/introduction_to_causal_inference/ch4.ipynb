{
 "cells": [
  {
   "cell_type": "markdown",
   "id": "61752d1c",
   "metadata": {},
   "source": [
    "# 4. Causal Models"
   ]
  },
  {
   "cell_type": "markdown",
   "id": "e4336b00",
   "metadata": {},
   "source": [
    "## 4.1 The do-operator and Interventional Distributions\n",
    "\n",
    "**potential outcome $Y(t)$的分布**\n",
    "\n",
    "$$P(Y(t)=y)\\triangleq P(Y=y|do(T=t)) \\triangleq P(y|do(t))$$\n",
    "\n",
    "**ATE(average treatment effect)**\n",
    "\n",
    "$$\\mathbb{E}\\left[Y|do(T=1)\\right]-\\mathbb{E}\\left[Y|do(T=0)\\right]$$\n",
    "\n",
    "从普适性来说，我们会更关注所有的分布，例如$P(Y|do(T=t))$，而不是均值。如果能描述$P(Y|do(t))$那么自然就能描述$\\mathbb{E}\\left[Y|do(t)\\right]$。\n",
    "\n",
    "从概念上讲，干预分布（如$P(Y|do(T=t))$）与客观分布（$P(Y)$)是很不同的。客观分布不需要do操作，即不需要实施任何实验。如果我们能把带有do的表达式$Q$转换为不带有do的表达式，那么$Q$就被称为identifiable。\n",
    "\n",
    "- causal estimand: 含有do操作\n",
    "- statical estimand: 不含有do操作\n",
    "\n",
    "$do(t)$出现在条件长条$|$之后，表示干预后的世界。例如，$\\mathbb{E}\\left[Y|do(t),Z=z\\right]$表示的是子人群$Z=z$受到干预$t$后的期望。相反，$\\mathbb{E}\\left[Z=z\\right]$只表示子人群受到正常treatment（干预前）的期望值。"
   ]
  },
  {
   "cell_type": "markdown",
   "id": "23f1e3ee",
   "metadata": {},
   "source": [
    "## 4.2 The Main Assumption: Modularity\n",
    "\n",
    "```{admonition} Assumption 4.1 (Modularity / Independent Mechanisms / Invariance)\n",
    ":class: note\n",
    "If we intervene on a set of nodes $S\\subseteq [n]$(denotes set $\\{1,2,\\cdots,n\\}$), setting them to constants, then for all $i$, we have the following:\n",
    "\n",
    "1. If $i\\notin S$, then $P(x_i|pa_i)$ remains unchanged.\n",
    "2. If $i\\in S$, then $P(x_i|pa_i)=1$ if $x_i$ is the value that $X_i$ was set to by the intervention; otherwise, $P(x_i|pa_i)=0$.\n",
    "```"
   ]
  }
 ],
 "metadata": {
  "celltoolbar": "Tags",
  "hide_input": false,
  "kernelspec": {
   "display_name": "Python 3 (ipykernel)",
   "language": "python",
   "name": "python3"
  },
  "language_info": {
   "codemirror_mode": {
    "name": "ipython",
    "version": 3
   },
   "file_extension": ".py",
   "mimetype": "text/x-python",
   "name": "python",
   "nbconvert_exporter": "python",
   "pygments_lexer": "ipython3",
   "version": "3.8.11"
  },
  "toc": {
   "base_numbering": 1,
   "nav_menu": {},
   "number_sections": false,
   "sideBar": true,
   "skip_h1_title": false,
   "title_cell": "Table of Contents",
   "title_sidebar": "Contents",
   "toc_cell": false,
   "toc_position": {},
   "toc_section_display": true,
   "toc_window_display": false
  }
 },
 "nbformat": 4,
 "nbformat_minor": 5
}