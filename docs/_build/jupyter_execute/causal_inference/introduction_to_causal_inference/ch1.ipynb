{
 "cells": [
  {
   "cell_type": "markdown",
   "id": "615711c7",
   "metadata": {
    "hide_input": false
   },
   "source": [
    "# 1. Motivation: Why You Might Care"
   ]
  },
  {
   "cell_type": "markdown",
   "id": "a2d53860",
   "metadata": {},
   "source": [
    "## 1.1 Simpson’s Paradox\n",
    "\n",
    "<img src=\"./images/ch1/ch1_simpson_paradox.png\" width=\"400px\" />\n",
    "\n",
    "### Scenario 1\n",
    "\n",
    "<img src=\"images/ch1/scenario1.png\" width=\"400px\" />\n",
    "\n",
    "给更多病情严重的人采用B治疗方案，病情中等的人采用A治疗方案，所以在全局上看B治疗方案的死亡率更高，此时应当根据病情拆分人群评估，B治疗方案在各个人群上的死亡率都更低。\n",
    "\n",
    "### Scenario 2\n",
    "\n",
    "<img src=\"images/ch1/scenario2.png\" width=\"400px\" />\n",
    "\n",
    "\n",
    "如果是由于B治疗方案等待时间长而导致病人的病情严重，如图1.2所示，那么评估B治疗方案对最终死亡率的影响，就应该在全局上进行。"
   ]
  },
  {
   "cell_type": "markdown",
   "id": "7450c06e",
   "metadata": {},
   "source": [
    "## 1.2 Applications of Causal Inference"
   ]
  },
  {
   "cell_type": "markdown",
   "id": "29701774",
   "metadata": {},
   "source": [
    "## 1.3 Correlation Does Not Imply Causation\n",
    "\n",
    "### 1.3.1 Nicolas Cage and Pool Drownings\n",
    "\n",
    "<img src=\"images/ch1/nicolas_cages_and_pool_drownings.png\" width=\"1000px\" />\n",
    "\n",
    "\n",
    "如图所示，数据中有尼古拉斯凯奇主演的电影数量与游泳溺死的人数变化趋势相同，这是一种伪相关性，因为二者不具有因果性。\n",
    "\n",
    "### 1.3.2 Why is Association Not Causation?"
   ]
  },
  {
   "cell_type": "markdown",
   "id": "cbe36a3f",
   "metadata": {},
   "source": [
    "## 1.4 Main Themes"
   ]
  }
 ],
 "metadata": {
  "hide_input": false,
  "kernelspec": {
   "display_name": "Python 3",
   "language": "python",
   "name": "python3"
  },
  "language_info": {
   "codemirror_mode": {
    "name": "ipython",
    "version": 3
   },
   "file_extension": ".py",
   "mimetype": "text/x-python",
   "name": "python",
   "nbconvert_exporter": "python",
   "pygments_lexer": "ipython3",
   "version": "3.8.8"
  },
  "toc": {
   "base_numbering": 1,
   "nav_menu": {},
   "number_sections": false,
   "sideBar": true,
   "skip_h1_title": false,
   "title_cell": "Table of Contents",
   "title_sidebar": "Contents",
   "toc_cell": false,
   "toc_position": {},
   "toc_section_display": true,
   "toc_window_display": false
  }
 },
 "nbformat": 4,
 "nbformat_minor": 5
}