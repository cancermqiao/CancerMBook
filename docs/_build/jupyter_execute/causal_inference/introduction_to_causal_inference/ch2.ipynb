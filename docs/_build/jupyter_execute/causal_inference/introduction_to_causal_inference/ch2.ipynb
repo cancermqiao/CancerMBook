{
 "cells": [
  {
   "cell_type": "markdown",
   "id": "fb79c8d9",
   "metadata": {},
   "source": [
    "# 2 Potential Outcomes\n",
    "\n",
    "## 2.1 Potential Outcomes and Individual Treatment Eﬀects\n",
    "\n",
    "#### Potential Outcome\n",
    "\n",
    "- 表示如果采用treatment T，输出将会是什么，用$Y(t)$表示\n",
    "- 不是实际观察到的输出$Y$\n",
    "\n",
    "#### Individual Treatment Eﬀect (ITE)\n",
    "\n",
    "个体$i$的ITE：\n",
    "\n",
    "$$\\tau_i \\triangleq Y_i(1)-Y_i(0)$$"
   ]
  },
  {
   "cell_type": "markdown",
   "id": "71e96a2c",
   "metadata": {},
   "source": [
    "## 2.2 The Fundamental Problem of Causal Inference\n",
    "\n",
    "#### Fundamental Problem of Causal Inference\n",
    "\n",
    "- 因为无法同时观测到$Y_i(1)$和$Y_i(0)$，因此无法观测到causal effect $Y_i(1)-Y_i(0)$\n",
    "- 可以通过potential outcome计算，没有观测到的potential outcome称作反事实，反事实和事实是相对的，只有当一个输出被观测到后，才能决定其为事实，其他为反事实"
   ]
  },
  {
   "cell_type": "markdown",
   "id": "394eeacd",
   "metadata": {},
   "source": [
    "## 2.3 Getting Around the Fundamental Problem\n",
    "\n",
    "### 2.3.1 Average Treatment Eﬀects and Missing Data Interpretation\n",
    "\n",
    "#### Average Treatment Eﬀect (ATE)\n",
    "\n",
    "$$\\tau \\triangleq \\mathbb{E}[Y_i(1)-Y_i(0)]=\\mathbb{E}[Y(1)-Y(0)]$$\n",
    "\n",
    "#### Associational Diﬀerence\n",
    "\n",
    "- 表达式：\n",
    "\n",
    "$$\\mathbb{E}[Y|T=1]-\\mathbb{E}[Y|T=0]$$\n",
    "\n",
    "- 因为有confounder的存在，不等同于ATE\n",
    "\n",
    "<img src=\"images/ch2/2.1.png\" width=400px />"
   ]
  },
  {
   "cell_type": "markdown",
   "id": "24544935",
   "metadata": {},
   "source": [
    "### 2.3.2 Ignorability and Exchangeability\n",
    "\n",
    "如何让associational difference等于ATE？\n",
    "\n",
    "给予受试者随机的treatment，去除受试者对treatment选择的影响\n",
    "\n",
    "<img src=\"images/ch2/2.2.png\" width=400px />\n",
    "\n",
    "```{admonition} Assumption 2.1 (Ignorability / Exchangeability)\n",
    ":class: note\n",
    "\n",
    "$$(Y(1),Y(0))\\amalg T$$\n",
    "```\n",
    "\n",
    "这个假设是因果推断的关键，可以将ATE转换为associational difference：\n",
    "\n",
    "$$\\begin{split}\\mathbb{E}Y(1)]-\\mathbb{E}[Y(0)]&=\\mathbb{E}[Y(1)|T=1]-\\mathbb{E}[Y(0)|T=0]\\\\&=\\mathbb{E}[Y|T=1]-\\mathbb{E}[Y|T=0]\\end{split}$$\n",
    "\n",
    "另一个视角是可互换性，即交换treatment和control组的样本，观察的输出是一样的，\n",
    "\n",
    "$$\\mathbb{E}[Y(1)|T=0]=\\mathbb{E}[Y(1)|T=1]$$\n",
    "\n",
    "$$\\mathbb{E}[Y(0)|T=1]=\\mathbb{E}[Y(0)|T=0]$$\n",
    "\n",
    "意味着\n",
    "\n",
    "$$\\mathbb{E}[Y(1)|T=t]=\\mathbb{E}[Y(1)]$$\n",
    "\n",
    "$$\\mathbb{E}[Y(0)|T=t]=\\mathbb{E}[Y(0)]$$\n",
    "\n",
    "```{admonition} Deﬁnition 2.1 (Identiﬁability) \n",
    ":class: warning\n",
    "\n",
    "A causal quantity ( $e.g.\\ \\mathbb{E}[Y(t)]$) is identiﬁable if we can compute it from a purely statistical quantity ($e.g.\\ \\mathbb{E}[Y|t]$).\n",
    "```"
   ]
  },
  {
   "cell_type": "markdown",
   "id": "881de852",
   "metadata": {},
   "source": [
    "### 2.3.3 Conditional Exchangeability and Unconfoundedness\n",
    "\n",
    "```{admonition} Assumption 2.2 (Conditional Exchangeability / Unconfoundedness)\n",
    ":class: note\n",
    "\n",
    "$$(Y(1),Y(0))\\amalg T|X$$\n",
    "```\n",
    "\n",
    "$T$和$Y$之间的非因果关联是通过$T \\leftarrow X \\rightarrow Y$传递的，在图2.3中用红色点线表示。\n",
    "\n",
    "<img src=\"images/ch2/2.3.png\" width=400px />\n",
    "\n",
    "\n",
    "当以$X$作为条件时，就不存在非因果关联了，如图2.4所示，称之为conditional exchangeability。\n",
    "\n",
    "<img src=\"images/ch2/2.4.png\" width=400px />"
   ]
  },
  {
   "cell_type": "markdown",
   "id": "eb58bea1",
   "metadata": {},
   "source": [
    "有了conditional exchangeability的假设，可以得到$X$级别上的causal effect，\n",
    "\n",
    "\\begin{align}\\mathbb{E}[Y(1)-Y(0)|X]&=\\mathbb{E}[Y(1)|X]-\\mathbb{E}[Y(0)|X]\\\\&=\\mathbb{E}[Y(1)|T=1,X]-\\mathbb{E}[Y(0)|T=0,X]\\\\&=\\mathbb{E}[Y|T=1,X]-\\mathbb{E}[Y|T=0,X] \\end{align}\n",
    "\n",
    "在conditional exchangeability的假设下，遍历$X$可以到边际效应，\n",
    "\n",
    "\\begin{align}\\mathbb{E}[Y(1)-Y(0)]&=\\mathbb{E}_X\\mathbb{E}[Y(1)-Y(0)|X]\\\\&=\\mathbb{E}_X[\\mathbb{E}[Y|T=1,X]-\\mathbb{E}[Y|T=0,X]]\\end{align}"
   ]
  },
  {
   "cell_type": "markdown",
   "id": "5cdcec37",
   "metadata": {},
   "source": [
    "```{admonition} Theorem 2.1 (Adjustment Formula) \n",
    ":class: important\n",
    "Given the assumptions of unconfoundedness, positivity, consistency, and no interference, we can identify the average treatment eﬀect:\n",
    "\n",
    "$$\\mathbb{E}[Y(1) − Y(0)] = \\mathbb{E}_X[\\mathbb{E}[Y|T=1,X]-\\mathbb{E}[Y|T=0,X]]$$\n",
    "```"
   ]
  },
  {
   "cell_type": "markdown",
   "id": "117fcf84",
   "metadata": {},
   "source": [
    "### 2.3.4 Positivity/Overlap and Extrapolation\n",
    "\n",
    "```{admonition} Assumption 2.3 (Positivity / Overlap / Common Support)\n",
    ":class: note\n",
    "For all values of covariates $x$ present in the population of interest (i.e. $x$ such that $P(X=x)>0$),\n",
    "\n",
    "$$0<P(T=1|X=x)<1$$\n",
    "```\n",
    "\n",
    "#### positivity/overlap/common support\n",
    "\n",
    "用Bayes拆解后，分母中不能为0\n",
    "\n",
    "\\begin{align}\\mathbb{E}[Y(1)-Y(0)]&=\\mathbb{E}_X[\\mathbb{E}[Y|T=1,X]-\\mathbb{E}[Y|T=0,X]]\\\\&=\\sum_XP(X=x)\\left(\\sum_yyP(Y=y|T=1,X=x)-\\sum_yyP(Y=y|T=0,X=x)\\right)\\\\&=\\sum_xp(X=x)\\left(\\sum_yy\\frac{P(Y=y,T=1,X=x)}{P(T=1|X=x)P(X=x)}-\\sum_yy\\frac{P(Y=y,T=0,X=x)}{P(T=0|X=x)P(X=x)}\\right)\\end{align}\n",
    "\n",
    "如果数据中的一个子集都是treatment或者control，那么就无法估计其causal effect。\n",
    "\n",
    "#### The Positivity-Unconfoundedness Tradeoﬀ\n",
    "\n",
    "condition更多的covariates，会增加满足unconfoundedness的几率，但同时会增加违背positivity的可能性。\n",
    "\n",
    "#### Extrapolation\n",
    "\n",
    "违背positivity假设会导致更严重地依赖模型，且往往得到比较差的表现。许多因果预估模型用数据$(t,x,y)$训练模型，强制模型在$P(T=1,X=x)=0$和$P(T=0,X=x)=0$的地方推断，替代adjustment formula(Theorem 2.1)中的条件期望。"
   ]
  },
  {
   "cell_type": "markdown",
   "id": "10f20e19",
   "metadata": {},
   "source": [
    "### 2.3.5 No interference, Consistency, and SUTVA\n",
    "\n",
    "```{admonition} Assumption 2.4 (No Interference)\n",
    ":class: note\n",
    "\n",
    "$$Y_i(t_1,...,t_{i-1},t_i,t_{i+1},...,t_n)=Y_i(t_i)$$\n",
    "```\n",
    "\n",
    "即输出不受其他人的treatment影响。但这个假设很容易打破，例如，如果treatment是“养狗”，输出是我的快乐程度，那么很容易受朋友是否养狗的影响，因为我们会一起遛狗。\n",
    "\n",
    "```{admonition} Assumption 2.5 (Consistency)\n",
    ":class: note\n",
    "If the treatment is $T$, then the observed outcome $Y$ is the potential outcome under treatment $T$. Formally,\n",
    "\n",
    "$$T=t \\Longrightarrow Y=Y(t)$$\n",
    "```\n",
    "#### We could write this equivalently as follow:\n",
    "\n",
    "$$Y=Y(T)$$\n",
    "\n",
    "观察到的treatment 为$T$的数据的输出$Y$即为treatment $T$的potential outcome。\n",
    "\n",
    "反例：如果treatment被定义为养狗和不养狗，而养一只puppy会让我开心，因为需要充满活力的朋友，但是如果养一只年老的、没有活力的狗，就不会开心。\n",
    "\n",
    "所以consistency包含了在一个treatment下没有多种版本的假设。\n",
    "\n",
    "#### SUTVA(stable unit-treatment value assumption)\n",
    "\n",
    "个体$i$的输出是个体$i$的treatment的一个简单函数。\n",
    "\n",
    "SUTVA是一致性和无干预的组合。"
   ]
  },
  {
   "cell_type": "markdown",
   "id": "feab5aa4",
   "metadata": {},
   "source": [
    "### 2.3.6 Tying It All Together\n",
    "\n",
    "<img src=\"images/ch2/pot2.1.png\" width=500px />"
   ]
  },
  {
   "cell_type": "markdown",
   "id": "97c2e348",
   "metadata": {},
   "source": [
    "## 2.4 Fancy Statistics Terminology Defanciﬁed\n",
    "\n",
    "- estimand：希望预估的量，例如$\\mathbb{E}_X[\\mathbb{E}[Y|T=1,X]-\\mathbb{E}[Y|T=0,X]]$\n",
    "- estimate：estimand的近似，从数据中得到\n",
    "- estimation：用数据和estimand得到estimate的过程\n",
    "- model-assisted estimators：借助机器学习模型进行预估\n",
    "\n",
    "<img src=\"images/ch2/2.5.png\" width=800px />"
   ]
  },
  {
   "cell_type": "markdown",
   "id": "41290cd1",
   "metadata": {},
   "source": [
    "## 2.5 A Complete Example with Estimation"
   ]
  },
  {
   "cell_type": "code",
   "execution_count": 1,
   "id": "f9dd511f",
   "metadata": {},
   "outputs": [
    {
     "name": "stdout",
     "output_type": "stream",
     "text": [
      "\n",
      "### Binary Treatment Data ###\n",
      "\n"
     ]
    },
    {
     "name": "stdout",
     "output_type": "stream",
     "text": [
      "# Adjustment Formula Estimates #\n",
      "Naive ATE estimate:\t\t\t\t\t\t\t 5.328501680864975\n",
      "ATE estimate adjusting for all covariates:\t 0.8537946431496021\n",
      "ATE estimate adjusting for age:\t\t\t\t 1.0502124539714488\n",
      "\n"
     ]
    },
    {
     "name": "stdout",
     "output_type": "stream",
     "text": [
      "# Regression Coefficient Estimates #\n",
      "Naive ATE estimate:\t\t\t\t\t\t\t 5.328501680864978\n",
      "ATE estimate adjusting for all covariates:\t 0.8537946431495851\n",
      "ATE estimate adjusting for age:\t\t\t\t 1.0502124539714823\n",
      "\n",
      "\n",
      "### Continuous Treatment Data ###\n",
      "\n"
     ]
    },
    {
     "name": "stdout",
     "output_type": "stream",
     "text": [
      "# Adjustment Formula Estimates #\n",
      "Naive ATE estimate:\t\t\t\t\t\t\t 3.628378195978172\n",
      "ATE estimate adjusting for all covariates:\t 0.8532920319407821\n",
      "ATE estimate adjusting for age:\t\t\t\t 1.0497716562238169\n",
      "\n"
     ]
    },
    {
     "name": "stdout",
     "output_type": "stream",
     "text": [
      "# Regression Coefficient Estimates #\n",
      "Naive ATE estimate:\t\t\t\t\t\t\t 3.6283781959780943\n",
      "ATE estimate adjusting for all covariates:\t 0.8532920319407795\n",
      "ATE estimate adjusting for age:\t\t\t\t 1.0497716562238382\n",
      "\n"
     ]
    }
   ],
   "source": [
    "\"\"\"\n",
    "Estimating the causal effect of sodium on blood pressure in a simulated example\n",
    "adapted from Luque-Fernandez et al. (2018):\n",
    "    https://academic.oup.com/ije/article/48/2/640/5248195\n",
    "\"\"\"\n",
    "\n",
    "import numpy as np\n",
    "import pandas as pd\n",
    "from sklearn.linear_model import LinearRegression\n",
    "\n",
    "def generate_data(n=1000, seed=0, beta1=1.05, alpha1=0.4, alpha2=0.3, binary_treatment=True, binary_cutoff=3.5):\n",
    "    np.random.seed(seed)\n",
    "    age = np.random.normal(65, 5, n)\n",
    "    sodium = age / 18 + np.random.normal(size=n)\n",
    "    if binary_treatment:\n",
    "        if binary_cutoff is None:\n",
    "            binary_cutoff = sodium.mean()\n",
    "        sodium = (sodium > binary_cutoff).astype(int)\n",
    "    blood_pressure = beta1 * sodium + 2 * age + np.random.normal(size=n)\n",
    "    proteinuria = alpha1 * sodium + alpha2 * blood_pressure + np.random.normal(size=n)\n",
    "    hypertension = (blood_pressure >= 140).astype(int)  # not used, but could be used for binary outcomes\n",
    "    return pd.DataFrame({'blood_pressure': blood_pressure, 'sodium': sodium,\n",
    "                         'age': age, 'proteinuria': proteinuria})\n",
    "\n",
    "def estimate_causal_effect(Xt, y, model=LinearRegression(), treatment_idx=0, regression_coef=False):\n",
    "    model.fit(Xt, y)\n",
    "    if regression_coef:\n",
    "        return model.coef_[treatment_idx]\n",
    "    else:\n",
    "        Xt1 = pd.DataFrame.copy(Xt)\n",
    "        Xt1[Xt.columns[treatment_idx]] = 1\n",
    "        Xt0 = pd.DataFrame.copy(Xt)\n",
    "        Xt0[Xt.columns[treatment_idx]] = 0\n",
    "        return (model.predict(Xt1) - model.predict(Xt0)).mean()\n",
    "\n",
    "binary_t_df = generate_data(beta1=1.05, alpha1=.4, alpha2=.3, binary_treatment=True, n=10000000)\n",
    "continuous_t_df = generate_data(beta1=1.05, alpha1=.4, alpha2=.3, binary_treatment=False, n=10000000)\n",
    "\n",
    "ate_est_naive = None\n",
    "ate_est_adjust_all = None\n",
    "ate_est_adjust_age = None\n",
    "\n",
    "for df, name in zip([binary_t_df, continuous_t_df],\n",
    "                    ['Binary Treatment Data', 'Continuous Treatment Data']):\n",
    "    print()\n",
    "    print('### {} ###'.format(name))\n",
    "    print()\n",
    "\n",
    "    # Adjustment formula estimates\n",
    "    ate_est_naive = estimate_causal_effect(df[['sodium']], df['blood_pressure'], treatment_idx=0)\n",
    "    ate_est_adjust_all = estimate_causal_effect(df[['sodium', 'age', 'proteinuria']],\n",
    "                                                df['blood_pressure'], treatment_idx=0)\n",
    "    ate_est_adjust_age = estimate_causal_effect(df[['sodium', 'age']], df['blood_pressure'])\n",
    "    print('# Adjustment Formula Estimates #')\n",
    "    print('Naive ATE estimate:\\t\\t\\t\\t\\t\\t\\t', ate_est_naive)\n",
    "    print('ATE estimate adjusting for all covariates:\\t', ate_est_adjust_all)\n",
    "    print('ATE estimate adjusting for age:\\t\\t\\t\\t', ate_est_adjust_age)\n",
    "    print()\n",
    "\n",
    "    # Linear regression coefficient estimates\n",
    "    ate_est_naive = estimate_causal_effect(df[['sodium']], df['blood_pressure'], treatment_idx=0,\n",
    "                                           regression_coef=True)\n",
    "    ate_est_adjust_all = estimate_causal_effect(df[['sodium', 'age', 'proteinuria']],\n",
    "                                                df['blood_pressure'], treatment_idx=0,\n",
    "                                                regression_coef=True)\n",
    "    ate_est_adjust_age = estimate_causal_effect(df[['sodium', 'age']], df['blood_pressure'],\n",
    "                                                regression_coef=True)\n",
    "    print('# Regression Coefficient Estimates #')\n",
    "    print('Naive ATE estimate:\\t\\t\\t\\t\\t\\t\\t', ate_est_naive)\n",
    "    print('ATE estimate adjusting for all covariates:\\t', ate_est_adjust_all)\n",
    "    print('ATE estimate adjusting for age:\\t\\t\\t\\t', ate_est_adjust_age)\n",
    "    print()"
   ]
  }
 ],
 "metadata": {
  "hide_input": false,
  "kernelspec": {
   "display_name": "Python 3 (ipykernel)",
   "language": "python",
   "name": "python3"
  },
  "language_info": {
   "codemirror_mode": {
    "name": "ipython",
    "version": 3
   },
   "file_extension": ".py",
   "mimetype": "text/x-python",
   "name": "python",
   "nbconvert_exporter": "python",
   "pygments_lexer": "ipython3",
   "version": "3.8.11"
  },
  "latex_envs": {
   "LaTeX_envs_menu_present": true,
   "autoclose": false,
   "autocomplete": true,
   "bibliofile": "biblio.bib",
   "cite_by": "apalike",
   "current_citInitial": 1,
   "eqLabelWithNumbers": true,
   "eqNumInitial": 1,
   "hotkeys": {
    "equation": "Ctrl-E",
    "itemize": "Ctrl-I"
   },
   "labels_anchors": false,
   "latex_user_defs": false,
   "report_style_numbering": false,
   "user_envs_cfg": false
  },
  "toc": {
   "base_numbering": 1,
   "nav_menu": {},
   "number_sections": false,
   "sideBar": true,
   "skip_h1_title": false,
   "title_cell": "Table of Contents",
   "title_sidebar": "Contents",
   "toc_cell": false,
   "toc_position": {},
   "toc_section_display": true,
   "toc_window_display": false
  }
 },
 "nbformat": 4,
 "nbformat_minor": 5
}