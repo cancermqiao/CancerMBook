{
 "cells": [
  {
   "cell_type": "markdown",
   "id": "5a1415fb",
   "metadata": {},
   "source": [
    "# 增长黑客"
   ]
  },
  {
   "cell_type": "markdown",
   "id": "d4a00d65",
   "metadata": {},
   "source": [
    "## 第四章\n",
    "\n",
    "### 增长会议\n",
    "\n",
    "建议每周召开一次增长会议，GrowthHackers有一套召开增长会议的规则，实践证明这套规则十分有效。\n",
    "\n",
    "每周二召开增长会议，以便将一周中的第一天空出来让团队完成必要的准备工作。每周一，团队成员会检查试验进展，结束能够结束的工作，或者收集数据以备第二天会议使用。增长负责人会查看前一周的工作，包括：\n",
    "- 查看顺利启动的试验数量，与团队的目标试验速度进行比较。\n",
    "- 与数据分析师讨论，了解所有关键指标的最新进展，以便第二天向团队介绍并分发报告。\n",
    "- 收集所有已完结试验的数据。\n",
    "- 对前一周的工作与结果进行深入评估，包括总结试验对增长的积极和消极影响。\n",
    "- 汇总以上信息，形成文档，分发给团队成员。\n",
    "\n",
    "会议当天，抽出一个小时根据一下日程召开会议：\n",
    "\n",
    "1. 回顾指标并更新关注领域（15分钟）\n",
    "    - 主要积极因素\n",
    "    - 主要消极因素\n",
    "    - 增长关注领域\n",
    "2. 回顾前一周的测试工作（10分钟）\n",
    "    - 节奏\n",
    "    - 前一周的\"Up Next\"清单中有多少试验没有启动\n",
    "    \n",
    "3. 从试验分析中获得的主要收获（15分钟）\n",
    "4. 选择下一周期的增长试验（15分钟）\n",
    "5. 检查增长想法储备库（5分钟）"
   ]
  }
 ],
 "metadata": {
  "hide_input": false,
  "kernelspec": {
   "display_name": "Python 3 (ipykernel)",
   "language": "python",
   "name": "python3"
  },
  "language_info": {
   "codemirror_mode": {
    "name": "ipython",
    "version": 3
   },
   "file_extension": ".py",
   "mimetype": "text/x-python",
   "name": "python",
   "nbconvert_exporter": "python",
   "pygments_lexer": "ipython3",
   "version": "3.8.11"
  },
  "latex_envs": {
   "LaTeX_envs_menu_present": true,
   "autoclose": false,
   "autocomplete": true,
   "bibliofile": "biblio.bib",
   "cite_by": "apalike",
   "current_citInitial": 1,
   "eqLabelWithNumbers": true,
   "eqNumInitial": 1,
   "hotkeys": {
    "equation": "Ctrl-E",
    "itemize": "Ctrl-I"
   },
   "labels_anchors": false,
   "latex_user_defs": false,
   "report_style_numbering": false,
   "user_envs_cfg": false
  },
  "toc": {
   "base_numbering": 1,
   "nav_menu": {},
   "number_sections": false,
   "sideBar": true,
   "skip_h1_title": false,
   "title_cell": "Table of Contents",
   "title_sidebar": "Contents",
   "toc_cell": false,
   "toc_position": {},
   "toc_section_display": true,
   "toc_window_display": false
  }
 },
 "nbformat": 4,
 "nbformat_minor": 5
}