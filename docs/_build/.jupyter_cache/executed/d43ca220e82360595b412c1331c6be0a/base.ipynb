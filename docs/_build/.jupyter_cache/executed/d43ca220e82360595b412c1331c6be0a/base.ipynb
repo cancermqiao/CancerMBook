{
 "cells": [
  {
   "cell_type": "code",
   "execution_count": 1,
   "id": "ae1b276d",
   "metadata": {},
   "outputs": [],
   "source": [
    "from typing import List"
   ]
  },
  {
   "cell_type": "code",
   "execution_count": 2,
   "id": "01282c07",
   "metadata": {},
   "outputs": [],
   "source": [
    "def findKthLargest(nums: List[int], k: int) -> int:\n",
    "    def quick_sort(l, r):\n",
    "        p = l\n",
    "        i, j = l, r\n",
    "        while i < j:\n",
    "            while i < j and nums[p] >= nums[j]: j -= 1\n",
    "            while i < j and nums[p] <= nums[i]: i += 1\n",
    "            nums[i], nums[j] = nums[j], nums[i]\n",
    "        nums[i], nums[p] = nums[p], nums[i]\n",
    "        print(nums, i)\n",
    "        if k == i+1: return nums[i+1]\n",
    "        if k > i+1: return quick_sort(i+1, r)\n",
    "        if k < i+1: return quick_sort(l, i-1)\n",
    "\n",
    "    return quick_sort(0, len(nums)-1)"
   ]
  },
  {
   "cell_type": "code",
   "execution_count": 3,
   "id": "adbfed5b",
   "metadata": {},
   "outputs": [],
   "source": [
    "nums = [3,2,3,1,2,4,5,5,6]\n",
    "k = 4"
   ]
  },
  {
   "cell_type": "code",
   "execution_count": 4,
   "id": "b2bd348a",
   "metadata": {},
   "outputs": [
    {
     "name": "stdout",
     "output_type": "stream",
     "text": [
      "[4, 6, 3, 5, 5, 3, 2, 1, 2] 5\n",
      "[5, 6, 5, 4, 3, 3, 2, 1, 2] 3\n"
     ]
    },
    {
     "data": {
      "text/plain": [
       "3"
      ]
     },
     "execution_count": 4,
     "metadata": {},
     "output_type": "execute_result"
    }
   ],
   "source": [
    "findKthLargest(nums, k)"
   ]
  },
  {
   "cell_type": "code",
   "execution_count": 5,
   "id": "3f213737",
   "metadata": {},
   "outputs": [],
   "source": [
    "a = {'a': 1, 'b': 2}"
   ]
  },
  {
   "cell_type": "code",
   "execution_count": 6,
   "id": "35d5d7f5",
   "metadata": {},
   "outputs": [
    {
     "data": {
      "text/plain": [
       "['a', 'b']"
      ]
     },
     "execution_count": 6,
     "metadata": {},
     "output_type": "execute_result"
    }
   ],
   "source": [
    "list(a)"
   ]
  },
  {
   "cell_type": "code",
   "execution_count": null,
   "id": "a057abd9",
   "metadata": {},
   "outputs": [],
   "source": []
  }
 ],
 "metadata": {
  "hide_input": false,
  "kernelspec": {
   "display_name": "Python 3",
   "language": "python",
   "name": "python3"
  },
  "language_info": {
   "codemirror_mode": {
    "name": "ipython",
    "version": 3
   },
   "file_extension": ".py",
   "mimetype": "text/x-python",
   "name": "python",
   "nbconvert_exporter": "python",
   "pygments_lexer": "ipython3",
   "version": "3.8.8"
  },
  "toc": {
   "base_numbering": 1,
   "nav_menu": {},
   "number_sections": true,
   "sideBar": true,
   "skip_h1_title": false,
   "title_cell": "Table of Contents",
   "title_sidebar": "Contents",
   "toc_cell": false,
   "toc_position": {},
   "toc_section_display": true,
   "toc_window_display": false
  }
 },
 "nbformat": 4,
 "nbformat_minor": 5
}