{
 "cells": [
  {
   "cell_type": "markdown",
   "metadata": {},
   "source": [
    "# Pytorch Tutorial\n",
    "\n",
    "\n",
    "## Learn the Basics\n",
    "\n",
    "Authors:\n",
    "[Suraj Subramanian](https://github.com/suraj813),\n",
    "[Seth Juarez](https://github.com/sethjuarez/),\n",
    "[Cassie Breviu](https://github.com/cassieview/),\n",
    "[Dmitry Soshnikov](https://soshnikov.com/),\n",
    "[Ari Bornstein](https://github.com/aribornstein/)\n",
    "\n",
    "Most machine learning workflows involve working with data, creating models, optimizing model\n",
    "parameters, and saving the trained models. This tutorial introduces you to a complete ML workflow\n",
    "implemented in PyTorch, with links to learn more about each of these concepts.\n",
    "\n",
    "We'll use the FashionMNIST dataset to train a neural network that predicts if an input image belongs\n",
    "to one of the following classes: T-shirt/top, Trouser, Pullover, Dress, Coat, Sandal, Shirt, Sneaker,\n",
    "Bag, or Ankle boot.\n",
    "\n",
    "`This tutorial assumes a basic familiarity with Python and Deep Learning concepts.`\n",
    "\n",
    "\n",
    "## Running the Tutorial Code\n",
    "You can run this tutorial in a couple of ways:\n",
    "\n",
    "- **In the cloud**: This is the easiest way to get started! Each section has a \"Run in Microsoft Learn\" link at the top, which opens an integrated notebook in Microsoft Learn with the code in a fully-hosted environment.\n",
    "- **Locally**: This option requires you to setup PyTorch and TorchVision first on your local machine ([installation instructions](https://pytorch.org/get-started/locally/)). Download the notebook or copy the code into your favorite IDE.\n",
    "\n",
    "\n",
    "## How to Use this Guide\n",
    "If you're familiar with other deep learning frameworks, check out the [0. QuickStart](./quickstart_tutorial.ipynb) first to quickly familiarize yourself with PyTorch's API.\n",
    "\n",
    "If you're new to deep learning frameworks, head right into the first section of our step-by-step guide: [1. Tensors](./tensorqs_tutorial.ipynb).\n",
    "\n",
    "\n",
    "```{tableofcontents}\n",
    "```\n"
   ]
  }
 ],
 "metadata": {
  "hide_input": false,
  "kernelspec": {
   "display_name": "Python 3",
   "language": "python",
   "name": "python3"
  },
  "language_info": {
   "codemirror_mode": {
    "name": "ipython",
    "version": 3
   },
   "file_extension": ".py",
   "mimetype": "text/x-python",
   "name": "python",
   "nbconvert_exporter": "python",
   "pygments_lexer": "ipython3",
   "version": "3.8.8"
  },
  "toc": {
   "base_numbering": 1,
   "nav_menu": {},
   "number_sections": false,
   "sideBar": true,
   "skip_h1_title": false,
   "title_cell": "Table of Contents",
   "title_sidebar": "Contents",
   "toc_cell": false,
   "toc_position": {},
   "toc_section_display": true,
   "toc_window_display": false
  }
 },
 "nbformat": 4,
 "nbformat_minor": 1
}
